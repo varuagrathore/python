{
 "cells": [
  {
   "cell_type": "code",
   "execution_count": 1,
   "id": "3ddef434",
   "metadata": {},
   "outputs": [],
   "source": [
    "import random\n"
   ]
  },
  {
   "cell_type": "code",
   "execution_count": null,
   "id": "ec627a34",
   "metadata": {},
   "outputs": [
    {
     "name": "stdout",
     "output_type": "stream",
     "text": [
      "Welcome to Guess the Number!\n",
      "I'm thinking of a number between 1 to 100.\n"
     ]
    }
   ],
   "source": [
    "def guess_the_number():\n",
    "    print(\"Welcome to Guess the Number!\")\n",
    "    print(\"I'm thinking of a number between 1 to 100.\")\n",
    "    secret_number=random.randint(1,100)\n",
    "    attempts=0\n",
    "    while True:\n",
    "        user_guess=int(input(\"your guess:\"))\n",
    "        attempts +=1\n",
    "        if user_guess==secret_number:\n",
    "            print(f\"Congratulation! You guessed the number in {attempts} attempts\")\n",
    "            break\n",
    "        \n",
    "        elif user_guess<secret_number:\n",
    "            print(\"Too low! Try again.\")\n",
    "            \n",
    "        else:\n",
    "            print(\"Too high! Try again.\")\n",
    "\n",
    "            \n",
    "            \n",
    "if __name__ == \"__main__\":\n",
    "    guess_the_number()"
   ]
  },
  {
   "cell_type": "code",
   "execution_count": null,
   "id": "60425a1c",
   "metadata": {},
   "outputs": [],
   "source": []
  }
 ],
 "metadata": {
  "kernelspec": {
   "display_name": "Python 3 (ipykernel)",
   "language": "python",
   "name": "python3"
  },
  "language_info": {
   "codemirror_mode": {
    "name": "ipython",
    "version": 3
   },
   "file_extension": ".py",
   "mimetype": "text/x-python",
   "name": "python",
   "nbconvert_exporter": "python",
   "pygments_lexer": "ipython3",
   "version": "3.11.4"
  }
 },
 "nbformat": 4,
 "nbformat_minor": 5
}
